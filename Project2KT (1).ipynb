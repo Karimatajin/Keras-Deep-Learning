{
 "cells": [
  {
   "cell_type": "markdown",
   "metadata": {},
   "source": [
    "#         Pima Indians - diabetes prediction\n",
    "   ## Neural Network for binary classification "
   ]
  },
  {
   "cell_type": "markdown",
   "metadata": {},
   "source": [
    "                                                                                                  by: Karima Tajin"
   ]
  },
  {
   "cell_type": "code",
   "execution_count": 1,
   "metadata": {},
   "outputs": [
    {
     "name": "stderr",
     "output_type": "stream",
     "text": [
      "Using TensorFlow backend.\n",
      "/Users/karimaidrissi/opt/anaconda3/lib/python3.7/site-packages/tensorflow/python/framework/dtypes.py:526: FutureWarning: Passing (type, 1) or '1type' as a synonym of type is deprecated; in a future version of numpy, it will be understood as (type, (1,)) / '(1,)type'.\n",
      "  _np_qint8 = np.dtype([(\"qint8\", np.int8, 1)])\n",
      "/Users/karimaidrissi/opt/anaconda3/lib/python3.7/site-packages/tensorflow/python/framework/dtypes.py:527: FutureWarning: Passing (type, 1) or '1type' as a synonym of type is deprecated; in a future version of numpy, it will be understood as (type, (1,)) / '(1,)type'.\n",
      "  _np_quint8 = np.dtype([(\"quint8\", np.uint8, 1)])\n",
      "/Users/karimaidrissi/opt/anaconda3/lib/python3.7/site-packages/tensorflow/python/framework/dtypes.py:528: FutureWarning: Passing (type, 1) or '1type' as a synonym of type is deprecated; in a future version of numpy, it will be understood as (type, (1,)) / '(1,)type'.\n",
      "  _np_qint16 = np.dtype([(\"qint16\", np.int16, 1)])\n",
      "/Users/karimaidrissi/opt/anaconda3/lib/python3.7/site-packages/tensorflow/python/framework/dtypes.py:529: FutureWarning: Passing (type, 1) or '1type' as a synonym of type is deprecated; in a future version of numpy, it will be understood as (type, (1,)) / '(1,)type'.\n",
      "  _np_quint16 = np.dtype([(\"quint16\", np.uint16, 1)])\n",
      "/Users/karimaidrissi/opt/anaconda3/lib/python3.7/site-packages/tensorflow/python/framework/dtypes.py:530: FutureWarning: Passing (type, 1) or '1type' as a synonym of type is deprecated; in a future version of numpy, it will be understood as (type, (1,)) / '(1,)type'.\n",
      "  _np_qint32 = np.dtype([(\"qint32\", np.int32, 1)])\n",
      "/Users/karimaidrissi/opt/anaconda3/lib/python3.7/site-packages/tensorflow/python/framework/dtypes.py:535: FutureWarning: Passing (type, 1) or '1type' as a synonym of type is deprecated; in a future version of numpy, it will be understood as (type, (1,)) / '(1,)type'.\n",
      "  np_resource = np.dtype([(\"resource\", np.ubyte, 1)])\n"
     ]
    }
   ],
   "source": [
    "# Import necessary libraries\n",
    "from keras.models import Sequential\n",
    "from keras.layers import Dense\n",
    "from keras.optimizers import Adam\n",
    "import numpy as np\n",
    "from sklearn.metrics import classification_report, confusion_matrix\n",
    "import matplotlib.pyplot as plt\n",
    "import os"
   ]
  },
  {
   "cell_type": "markdown",
   "metadata": {},
   "source": [
    "### Load and Split Pima-Indians-Diabetes dataset"
   ]
  },
  {
   "cell_type": "code",
   "execution_count": 2,
   "metadata": {},
   "outputs": [],
   "source": [
    "# chanding the directory\n",
    "os.chdir(\"/Users/karimaidrissi/Desktop/DSSA 5104 DL/week12\")\n",
    "\n",
    "# set random seed for reproducibility\n",
    "np.random.seed(7)\n",
    "\n",
    "# load the dataset\n",
    "dataset = np.loadtxt(\"pima-indians-diabetes.csv\", delimiter=\",\")\n",
    "\n",
    "# start splitting pima-indians-diabetes dataset into observed features(input) and targets variable(output)\n",
    "X = dataset[:,0:8] # features values\n",
    "Y = dataset[:,8]# targets variable either 0 or 1"
   ]
  },
  {
   "cell_type": "markdown",
   "metadata": {},
   "source": [
    "### Build a Simple model"
   ]
  },
  {
   "cell_type": "code",
   "execution_count": 3,
   "metadata": {},
   "outputs": [],
   "source": [
    "# build a simple model of Neural Network\n",
    "model = Sequential()\n",
    "model.add(Dense(12,input_dim=8,activation=\"relu\"))# adding 8 input neurons with 12 hidden layers by using relu activation function\n",
    "model.add(Dense(12,activation=\"relu\")) # adding 12 hidden layers by using relu activation function\n",
    "model.add(Dense(1,activation=\"sigmoid\")) # adding 1 otput layers by using Sigmoid function"
   ]
  },
  {
   "cell_type": "markdown",
   "metadata": {},
   "source": [
    "### Compile our Model using Binary Cross-entropy"
   ]
  },
  {
   "cell_type": "markdown",
   "metadata": {},
   "source": [
    "- Binary Cross-entropy or log loss is best used for classification model where the output is binary "
   ]
  },
  {
   "cell_type": "code",
   "execution_count": 4,
   "metadata": {},
   "outputs": [
    {
     "name": "stdout",
     "output_type": "stream",
     "text": [
      "dict_keys(['val_loss', 'val_accuracy', 'loss', 'accuracy'])\n",
      "768/768 [==============================] - 0s 17us/step\n",
      "\n",
      "accuracy: 78.12%\n",
      "Confusion Matrix\n",
      "================\n",
      "True negatives:  428\n",
      "False negatives:  96\n",
      "False positives:  72\n",
      "True positives:  172\n"
     ]
    }
   ],
   "source": [
    "# compiling our model with binary_crossentropy for loss function, Adam  as optimizer default and the accuracy for out metrics.\n",
    "model.compile(loss='binary_crossentropy',optimizer=Adam(lr=0.01), metrics= [\"accuracy\"])\n",
    "\n",
    "# train the model by passing X and Y with 100 iterations\n",
    "# setting validation_split to separate 20% of the training data into a validation dataset that\n",
    "# can be used to evaluate our model\n",
    "history= model.fit(X,Y, epochs=150,validation_split=0.20,verbose=0)\n",
    "print(history.history.keys())\n",
    "\n",
    "# Evaluate the model\n",
    "scores = model.evaluate(X, Y)\n",
    "scores\n",
    "\n",
    "# the predicted model\n",
    "Y_predict = model.predict(X)\n",
    "\n",
    "print(\"\\n%s: %.2f%%\" % (model.metrics_names[1], scores[1]*100))\n",
    "\n",
    "# create confusion matrix details\n",
    "rounded = [round(i[0]) for i in Y_predict]\n",
    "y_pred = np.array(rounded,dtype='int64')\n",
    "print('Confusion Matrix')\n",
    "print('================')\n",
    "CM = confusion_matrix(Y, y_pred)\n",
    "print('True negatives: ',CM[0,0])\n",
    "print('False negatives: ',CM[1,0])\n",
    "print('False positives: ',CM[0,1])\n",
    "print('True positives: ',CM[1,1])"
   ]
  },
  {
   "cell_type": "markdown",
   "metadata": {},
   "source": [
    "- The accuracy of our model with 100 epochs and 0.01 learning rate  is 78.12%\n",
    "- The confusion matrix can be interpreted as follows out of 768 observations in Pima-Indians-Diabetes dataset, 600 observation were correctly predicted while 168 were incorrectly predicted\n",
    "- we can also calculate the accuracy by adding True negatives and True positive then divide the sum by the total number of observations: 600/768= 0.7812 which gives 78.12%"
   ]
  },
  {
   "cell_type": "markdown",
   "metadata": {},
   "source": [
    "### Plotting The Accuracy and Loss of our Model with 0.01 LR"
   ]
  },
  {
   "cell_type": "code",
   "execution_count": 5,
   "metadata": {},
   "outputs": [
    {
     "data": {
      "image/png": "[encoded data removed]",
      "text/plain": [
       "<Figure size 432x288 with 1 Axes>"
      ]
     },
     "metadata": {
      "needs_background": "light"
     },
     "output_type": "display_data"
    }
   ],
   "source": [
    "# summarize history for accuracy:\n",
    "#print('Accuracy', history.history[\"accuracy\"]) # print history for accuracy\n",
    "#print('Loss',history.history[\"loss\"])  # print history for loss\n",
    "plt.plot(history.history[\"accuracy\"], c = \"g\")\n",
    "plt.plot(history.history[\"loss\"], c =\"r\")\n",
    "plt.title(\"Model of Accuracy and Loss with 0.01 LR\")\n",
    "plt.ylabel(\"accuracy/loss\")\n",
    "plt.xlabel(\"epoch\")\n",
    "plt.legend([\"accuracy\", \"loss\"], loc=\"upper right\")\n",
    "plt.show()"
   ]
  },
  {
   "cell_type": "markdown",
   "metadata": {},
   "source": [
    "- The Plot shows that the Accuracy increases while the Loss decrease with 150 iterations and 0.01 learning rate"
   ]
  },
  {
   "cell_type": "markdown",
   "metadata": {},
   "source": [
    "### Different Learning Rate and epochs"
   ]
  },
  {
   "cell_type": "code",
   "execution_count": 6,
   "metadata": {},
   "outputs": [
    {
     "name": "stdout",
     "output_type": "stream",
     "text": [
      "dict_keys(['val_loss', 'val_accuracy', 'loss', 'accuracy'])\n",
      "768/768 [==============================] - 0s 17us/step\n",
      "\n",
      "accuracy: 80.60%\n",
      "Confusion Matrix\n",
      "================\n",
      "True negatives:  430\n",
      "False negatives:  79\n",
      "False positives:  70\n",
      "True positives:  189\n"
     ]
    }
   ],
   "source": [
    "# compiling our model with binary_crossentropy for loss function, Adam  as optimizer default and the accuracy for out metrics.\n",
    "model.compile(loss='binary_crossentropy',optimizer=Adam(lr=0.005), metrics= [\"accuracy\"])\n",
    "\n",
    "# train the model by passing X and Y with 100 iterations\n",
    "# setting validation_split to separate 20% of the training data into a validation dataset that\n",
    "# can be used to evaluate our model\n",
    "history= model.fit(X,Y, epochs=500,validation_split=0.20,verbose=0)\n",
    "print(history.history.keys())\n",
    "\n",
    "# Evaluate the model\n",
    "scores = model.evaluate(X, Y)\n",
    "scores\n",
    "\n",
    "# the predicted model\n",
    "Y_predict = model.predict(X)\n",
    "\n",
    "print(\"\\n%s: %.2f%%\" % (model.metrics_names[1], scores[1]*100))\n",
    "\n",
    "# create confusion matrix details\n",
    "rounded = [round(i[0]) for i in Y_predict]\n",
    "y_pred = np.array(rounded,dtype='int64')\n",
    "print('Confusion Matrix')\n",
    "print('================')\n",
    "CM = confusion_matrix(Y, y_pred)\n",
    "print('True negatives: ',CM[0,0])\n",
    "print('False negatives: ',CM[1,0])\n",
    "print('False positives: ',CM[0,1])\n",
    "print('True positives: ',CM[1,1])"
   ]
  },
  {
   "cell_type": "markdown",
   "metadata": {},
   "source": [
    "- The accuracy of our model increase to 80.60% whith a lower learning rate and 500 iterations\n",
    "- The confusion matrix can be interpreted as follows out of 768 observations in Pima-Indians-Diabetes dataset, 619 observations were correctly predicted while 149 were incorrectly predicted\n",
    "- we can also calculate the accuracy of our model by adding True negatives and True positive then divide the sum by the total number of observations: 619/768= 0.8060 which means 80.60%"
   ]
  },
  {
   "cell_type": "markdown",
   "metadata": {},
   "source": [
    "### Plotting The Accuracy and Loss of our Model with 0.005 LR"
   ]
  },
  {
   "cell_type": "code",
   "execution_count": 7,
   "metadata": {},
   "outputs": [
    {
     "data": {
      "image/png": "[encoded data removed]",
      "text/plain": [
       "<Figure size 432x288 with 1 Axes>"
      ]
     },
     "metadata": {
      "needs_background": "light"
     },
     "output_type": "display_data"
    }
   ],
   "source": [
    "# summarize history for accuracy:\n",
    "#print('Accuracy', history.history[\"accuracy\"]) # print history for accuracy\n",
    "#print('Loss',history.history[\"loss\"])  # print history for loss\n",
    "plt.plot(history.history[\"accuracy\"], c=\"g\")\n",
    "plt.plot(history.history[\"loss\"], c=\"r\")\n",
    "plt.title(\"model of accuracy and loss with 0.005 LR\")\n",
    "plt.ylabel(\"accuracy/loss\")\n",
    "plt.xlabel(\"epoch\")\n",
    "plt.legend([\"accuracy\", \"loss\"], loc=\"upper right\")\n",
    "plt.show()"
   ]
  },
  {
   "cell_type": "markdown",
   "metadata": {},
   "source": [
    "- The plot shows that the accuracy increase while the loss decrease "
   ]
  },
  {
   "cell_type": "markdown",
   "metadata": {},
   "source": [
    "### Different Learning Rate and epochs"
   ]
  },
  {
   "cell_type": "code",
   "execution_count": 8,
   "metadata": {},
   "outputs": [
    {
     "name": "stdout",
     "output_type": "stream",
     "text": [
      "dict_keys(['val_loss', 'val_accuracy', 'loss', 'accuracy'])\n",
      "768/768 [==============================] - 0s 20us/step\n",
      "\n",
      "accuracy: 81.64%\n",
      "Confusion Matrix\n",
      "================\n",
      "True negatives:  452\n",
      "False negatives:  93\n",
      "False positives:  48\n",
      "True positives:  175\n"
     ]
    }
   ],
   "source": [
    "# compiling our model with binary_crossentropy for loss function, Adam  as optimizer default and the accuracy for out metrics.\n",
    "model.compile(loss='binary_crossentropy',optimizer=Adam(lr=0.0008), metrics= [\"accuracy\"])\n",
    "\n",
    "# train the model by passing X and Y with 1500 iterations\n",
    "# setting validation_split to separate 20% of the training data into a validation dataset that\n",
    "# can be used to evaluate our model\n",
    "history= model.fit(X,Y, epochs=1500,validation_split=0.20,verbose=0)\n",
    "print(history.history.keys())\n",
    "\n",
    "# Evaluate the model\n",
    "scores = model.evaluate(X, Y)\n",
    "scores\n",
    "\n",
    "# the predicted model\n",
    "Y_predict = model.predict(X)\n",
    "\n",
    "print(\"\\n%s: %.2f%%\" % (model.metrics_names[1], scores[1]*100))\n",
    "\n",
    "# create confusion matrix details\n",
    "rounded = [round(i[0]) for i in Y_predict]\n",
    "y_pred = np.array(rounded,dtype='int64')\n",
    "print('Confusion Matrix')\n",
    "print('================')\n",
    "CM = confusion_matrix(Y, y_pred)\n",
    "print('True negatives: ',CM[0,0])\n",
    "print('False negatives: ',CM[1,0])\n",
    "print('False positives: ',CM[0,1])\n",
    "print('True positives: ',CM[1,1])"
   ]
  },
  {
   "cell_type": "markdown",
   "metadata": {},
   "source": [
    "- The accuracy of our model increase to 81.64 % whith a lower learning rate and 1500 iterations\n",
    "- The confusion matrix can be interpreted as follows out of 768 observations in Pima-Indians-Diabetes dataset, 627 observations were correctly predicted while 141 were incorrectly predicted\n",
    "- we can also calculate the accuracy of our model by adding True negatives and True positive then divide the sum by the total number of observations: 627/768= 0.8164 which gives 81.64%"
   ]
  },
  {
   "cell_type": "markdown",
   "metadata": {},
   "source": [
    "### Plotting The Accuracy and Loss of our Model with 0.0008 LR"
   ]
  },
  {
   "cell_type": "code",
   "execution_count": 9,
   "metadata": {},
   "outputs": [
    {
     "data": {
      "image/png": "[encoded data removed]",
      "text/plain": [
       "<Figure size 432x288 with 1 Axes>"
      ]
     },
     "metadata": {
      "needs_background": "light"
     },
     "output_type": "display_data"
    }
   ],
   "source": [
    "# summarize history for accuracy:\n",
    "#print('Accuracy', history.history[\"accuracy\"]) # print history for accuracy\n",
    "#print('Loss',history.history[\"loss\"])  # print history for loss\n",
    "plt.plot(history.history[\"accuracy\"], c=\"g\")\n",
    "plt.plot(history.history[\"loss\"], c=\"r\")\n",
    "plt.title(\"model of accuracy and loss with 0.0008 LR\")\n",
    "plt.ylabel(\"accuracy/loss\")\n",
    "plt.xlabel(\"epoch\")\n",
    "plt.legend([\"accuracy\", \"loss\"], loc=\"upper right\")\n",
    "plt.show()"
   ]
  },
  {
   "cell_type": "markdown",
   "metadata": {},
   "source": [
    "### Compile our Model using Mean_Squared_Error"
   ]
  },
  {
   "cell_type": "markdown",
   "metadata": {},
   "source": [
    "- Mean_Squared_Error(MSE) is one of the best loss function for regression model"
   ]
  },
  {
   "cell_type": "code",
   "execution_count": 14,
   "metadata": {},
   "outputs": [
    {
     "name": "stdout",
     "output_type": "stream",
     "text": [
      "dict_keys(['val_loss', 'val_accuracy', 'loss', 'accuracy'])\n",
      "768/768 [==============================] - 0s 19us/step\n",
      "\n",
      "accuracy: 65.10%\n",
      "Confusion Matrix\n",
      "================\n",
      "True negatives:  500\n",
      "False negatives:  268\n",
      "False positives:  0\n",
      "True positives:  0\n"
     ]
    }
   ],
   "source": [
    "# compiling our model with binary_crossentropy for loss function, Adam  as optimizer default and the accuracy for out metrics.\n",
    "model.compile(loss='mean_squared_error',optimizer=Adam(lr=0.01), metrics= [\"accuracy\"])\n",
    "\n",
    "# train the model by passing X and Y with 100 iterations\n",
    "# setting validation_split to separate 20% of the training data into a validation dataset that\n",
    "# can be used to evaluate our model\n",
    "history= model.fit(X,Y, epochs=150,validation_split=0.20,verbose=0)\n",
    "print(history.history.keys())\n",
    "\n",
    "# Evaluate the model\n",
    "scores = model.evaluate(X, Y)\n",
    "scores\n",
    "\n",
    "# the predicted model\n",
    "Y_predict = model.predict(X)\n",
    "\n",
    "print(\"\\n%s: %.2f%%\" % (model.metrics_names[1], scores[1]*100))\n",
    "\n",
    "# create confusion matrix details\n",
    "rounded = [round(i[0]) for i in Y_predict]\n",
    "y_pred = np.array(rounded,dtype='int64')\n",
    "print('Confusion Matrix')\n",
    "print('================')\n",
    "CM = confusion_matrix(Y, y_pred)\n",
    "print('True negatives: ',CM[0,0])\n",
    "print('False negatives: ',CM[1,0])\n",
    "print('False positives: ',CM[0,1])\n",
    "print('True positives: ',CM[1,1])"
   ]
  },
  {
   "cell_type": "code",
   "execution_count": 15,
   "metadata": {},
   "outputs": [
    {
     "data": {
      "image/png": "[encoded data removed]",
      "text/plain": [
       "<Figure size 432x288 with 1 Axes>"
      ]
     },
     "metadata": {
      "needs_background": "light"
     },
     "output_type": "display_data"
    }
   ],
   "source": [
    "plt.plot(history.history[\"accuracy\"], c = \"g\")\n",
    "plt.plot(history.history[\"loss\"], c =\"r\")\n",
    "plt.title(\"Model of Accuracy and Loss with 0.01 LR\")\n",
    "plt.ylabel(\"accuracy/loss\")\n",
    "plt.xlabel(\"epoch\")\n",
    "plt.legend([\"accuracy\", \"loss\"], loc=\"upper right\")\n",
    "plt.show()"
   ]
  },
  {
   "cell_type": "markdown",
   "metadata": {},
   "source": [
    "### Conclusion:"
   ]
  },
  {
   "cell_type": "markdown",
   "metadata": {},
   "source": [
    "- We can conclude that learning rate has an important role in training our Neural Network model because it \n",
    "  can help us to increase our model accuracy and decrease into areas of lower loss. \n",
    " \n",
    "  \n",
    "- The model shows that while the accuracy increase, the loss rate decrease with adjusting learning rate and iterations\n",
    "\n",
    "- In this project is better to use Binary Cross-entropy loss because we are trying to predict categorical output either 1 or 0 means either a person will develop diabetes or no."
   ]
  },
  {
   "cell_type": "markdown",
   "metadata": {},
   "source": [
    "-----------------------------------------------------------------------------------------------------------------"
   ]
  },
  {
   "cell_type": "markdown",
   "metadata": {},
   "source": [
    "## Voting records - party prediction\n",
    "## Neural Network for binary classification"
   ]
  },
  {
   "cell_type": "code",
   "execution_count": 1,
   "metadata": {},
   "outputs": [
    {
     "name": "stderr",
     "output_type": "stream",
     "text": [
      "Using TensorFlow backend.\n"
     ]
    }
   ],
   "source": [
    "# Import necessary libraries\n",
    "from keras.models import Sequential\n",
    "from keras.layers import Dense\n",
    "from keras import optimizers\n",
    "import numpy as np\n",
    "import pandas as pd\n",
    "from sklearn.metrics import classification_report, confusion_matrix\n",
    "import matplotlib.pyplot as plt\n",
    "import os\n",
    "from sklearn.preprocessing import LabelEncoder # will be use to encode target labels with value 0 and 1 "
   ]
  },
  {
   "cell_type": "code",
   "execution_count": 6,
   "metadata": {},
   "outputs": [
    {
     "name": "stdout",
     "output_type": "stream",
     "text": [
      "[[0 0 1 ... 1 1 1]\n",
      " [1 0 1 ... 1 0 1]\n",
      " [0 1 1 ... 0 1 1]\n",
      " ...\n",
      " [1 0 0 ... 1 0 1]\n",
      " [1 0 0 ... 1 0 1]\n",
      " [0 0 0 ... 0 0 1]]\n"
     ]
    }
   ],
   "source": [
    "# chanding the directory\n",
    "os.chdir(\"/Users/karimaidrissi/Desktop/DSSA 5104 DL/week12\")\n",
    "\n",
    "# set random seed for reproducibility\n",
    "np.random.seed(7)\n",
    "\n",
    "# load the dataset\n",
    "voting_data = pd.read_csv(\"votingrecords.csv\", header = None)\n",
    "\n",
    "# Convert the categorical features into numerical values by applying LabelEncoder \n",
    "voting_data1 = voting_data.apply(LabelEncoder().fit_transform)\n",
    "voting_data2 = voting_data1.to_numpy()\n",
    "print(voting_data2) # convert the dataset1 to numpy array by using to_numpy() function\n",
    "\n",
    "# start splitting Voting-records dataset into observed features(input) and targets variable(output)\n",
    "X = voting_data2[:,1:17] #  16 features variables \n",
    "Y = voting_data2[:,0] # targets variable either democrat = 0 or republican = 1\n"
   ]
  },
  {
   "cell_type": "markdown",
   "metadata": {},
   "source": [
    "### Build the Neural Network Model"
   ]
  },
  {
   "cell_type": "code",
   "execution_count": 7,
   "metadata": {},
   "outputs": [],
   "source": [
    "# build a simple model of Neural Network\n",
    "model = Sequential() # build a Sequential model\n",
    "model.add(Dense(12,input_dim=16,activation=\"relu\")) # adding 16 input neurons with 12 hidden layers by using relu activation function\n",
    "model.add(Dense(9,activation=\"relu\")) # adding 9 hidden layers by using relu activation function\n",
    "model.add(Dense(1,activation=\"sigmoid\")) # adding 1 output neuron which represent democrat is 0 or republican is 1"
   ]
  },
  {
   "cell_type": "markdown",
   "metadata": {},
   "source": [
    "### Compile our model "
   ]
  },
  {
   "cell_type": "code",
   "execution_count": 9,
   "metadata": {},
   "outputs": [
    {
     "name": "stdout",
     "output_type": "stream",
     "text": [
      "dict_keys(['loss', 'accuracy'])\n",
      "232/232 [==============================] - 0s 127us/step\n",
      "\n",
      "accuracy: 97.84%\n",
      "Confusion Matrix\n",
      "================\n",
      "True negatives:  119\n",
      "False negatives:  0\n",
      "False positives:  5\n",
      "True positives:  108\n"
     ]
    }
   ],
   "source": [
    "# compiling our model with binary_crossentropy for loss function, Adam  as optimizer default and the accuracy for out metrics. \n",
    "adam = optimizers.Adam(learning_rate=0.1, beta_1=0.1, beta_2=0.999, amsgrad=False)\n",
    "model.compile(loss='binary_crossentropy',optimizer= adam, metrics= [\"accuracy\"])\n",
    "\n",
    "# train the model by passing X and Y with 100 iterations\n",
    "history= model.fit(X,Y, epochs=100,verbose=0)\n",
    "print(history.history.keys())\n",
    "\n",
    "# Evaluate the model\n",
    "scores = model.evaluate(X, Y)\n",
    "scores\n",
    "\n",
    "# the predicted model\n",
    "Y_predict = model.predict(X)\n",
    "print(\"\\n%s: %.2f%%\" % (model.metrics_names[1], scores[1]*100))\n",
    "\n",
    "\n",
    "# create confusion matrix details\n",
    "rounded = [round(i[0]) for i in Y_predict]\n",
    "y_pred = np.array(rounded,dtype='int64')\n",
    "print('Confusion Matrix')\n",
    "print('================')\n",
    "CM = confusion_matrix(Y, y_pred)\n",
    "print('True negatives: ',CM[0,0])\n",
    "print('False negatives: ',CM[1,0])\n",
    "print('False positives: ',CM[0,1])\n",
    "print('True positives: ',CM[1,1])"
   ]
  },
  {
   "cell_type": "markdown",
   "metadata": {},
   "source": [
    "- The accuracy of our model with 100 epochs and 0.1 learning rate  is 98.71%\n",
    "- The confusion matrix can be interpreted as follows out of 232 observations in Voting records dataset, 229 observations were correctly predicted while 3 were incorrectly predicted\n",
    "- we can also calculate the accuracy by adding True negatives and True positive then divide the sum by the total number of observations: 229/232= 0.9870 which gives 98.71%"
   ]
  },
  {
   "cell_type": "markdown",
   "metadata": {},
   "source": [
    "### Plotting the accuracy and loss of our model"
   ]
  },
  {
   "cell_type": "code",
   "execution_count": 10,
   "metadata": {},
   "outputs": [
    {
     "data": {
      "image/png": "[encoded data removed]",
      "text/plain": [
       "<Figure size 432x288 with 1 Axes>"
      ]
     },
     "metadata": {
      "needs_background": "light"
     },
     "output_type": "display_data"
    }
   ],
   "source": [
    "plt.plot(history.history[\"accuracy\"], c=\"g\")\n",
    "plt.plot(history.history[\"loss\"], c=\"r\")\n",
    "plt.title(\"The Model of Accuracy and Loss using 0.001 LR \")\n",
    "plt.ylabel(\"accuracy/loss\")\n",
    "plt.xlabel(\"epoch\")\n",
    "plt.legend([\"accuracy\", \"loss\"], loc=\"upper right\")\n",
    "plt.show()"
   ]
  },
  {
   "cell_type": "markdown",
   "metadata": {},
   "source": [
    "### Compile our model with different learning rate"
   ]
  },
  {
   "cell_type": "code",
   "execution_count": 13,
   "metadata": {},
   "outputs": [
    {
     "name": "stdout",
     "output_type": "stream",
     "text": [
      "dict_keys(['loss', 'accuracy'])\n",
      "232/232 [==============================] - 0s 122us/step\n",
      "\n",
      "accuracy: 96.12%\n",
      "Confusion Matrix\n",
      "================\n",
      "True negatives:  115\n",
      "False negatives:  0\n",
      "False positives:  9\n",
      "True positives:  108\n"
     ]
    },
    {
     "data": {
      "image/png": "[encoded data removed]",
      "text/plain": [
       "<Figure size 432x288 with 1 Axes>"
      ]
     },
     "metadata": {
      "needs_background": "light"
     },
     "output_type": "display_data"
    }
   ],
   "source": [
    "# compiling our model with binary_crossentropy for loss function, Adam  as optimizer default and the accuracy for out metrics. \n",
    "adam = optimizers.Adam(learning_rate=0.02, beta_1=0.08, beta_2=0.999, amsgrad=False)\n",
    "model.compile(loss='binary_crossentropy',optimizer= adam, metrics= [\"accuracy\"])\n",
    "# train the model by passing X and Y with 500 iterations\n",
    "history= model.fit(X,Y, epochs=500,verbose=0)\n",
    "print(history.history.keys())\n",
    "\n",
    "# Evaluate the model\n",
    "scores = model.evaluate(X, Y)\n",
    "scores\n",
    "\n",
    "# the predicted model\n",
    "Y_predict = model.predict(X)\n",
    "print(\"\\n%s: %.2f%%\" % (model.metrics_names[1], scores[1]*100))\n",
    "\n",
    "\n",
    "# create confusion matrix details\n",
    "rounded = [round(i[0]) for i in Y_predict]\n",
    "y_pred = np.array(rounded,dtype='int64')\n",
    "print('Confusion Matrix')\n",
    "print('================')\n",
    "CM = confusion_matrix(Y, y_pred)\n",
    "print('True negatives: ',CM[0,0])\n",
    "print('False negatives: ',CM[1,0])\n",
    "print('False positives: ',CM[0,1])\n",
    "print('True positives: ',CM[1,1])\n",
    "\n",
    "\n",
    "# plotting the accuracy and loss model with 0.02 learning rate\n",
    "plt.plot(history.history[\"accuracy\"],c='g')\n",
    "plt.plot(history.history[\"loss\"],c='r')\n",
    "plt.title(\"The Model of Accuracy and Loss using 0.08 LR \")\n",
    "plt.ylabel(\"accuracy/loss\")\n",
    "plt.xlabel(\"epoch\")\n",
    "plt.legend([\"accuracy\", \"loss\"], loc=\"upper right\")\n",
    "plt.show()"
   ]
  },
  {
   "cell_type": "markdown",
   "metadata": {},
   "source": [
    "- The accuracy of our model with 500 epochs and 0.02 learning rate  is 96.12%\n",
    "- The confusion matrix can be interpreted as follows out of 232 observations in Voting records dataset, 223 observations were correctly predicted while 9 observations were incorrectly\n",
    "- we can also calculate the accuracy by adding True negatives and True positive then divide the sum by the total number of observations: 223/232= 0.9612 which gives 96.12%"
   ]
  },
  {
   "cell_type": "code",
   "execution_count": 12,
   "metadata": {},
   "outputs": [
    {
     "name": "stdout",
     "output_type": "stream",
     "text": [
      "dict_keys(['loss', 'accuracy'])\n",
      "232/232 [==============================] - 0s 120us/step\n",
      "\n",
      "accuracy: 98.28%\n",
      "Confusion Matrix\n",
      "================\n",
      "True negatives:  120\n",
      "False negatives:  0\n",
      "False positives:  4\n",
      "True positives:  108\n"
     ]
    },
    {
     "data": {
      "image/png": "[encoded data removed]",
      "text/plain": [
       "<Figure size 432x288 with 1 Axes>"
      ]
     },
     "metadata": {
      "needs_background": "light"
     },
     "output_type": "display_data"
    }
   ],
   "source": [
    "# compiling our model with binary_crossentropy for loss function, Adam  as optimizer default and the accuracy for out metrics. \n",
    "adam = optimizers.Adam(learning_rate=0.08, beta_1=0.005, beta_2=0.999, amsgrad=False)\n",
    "model.compile(loss='binary_crossentropy',optimizer= adam, metrics= [\"accuracy\"])\n",
    "\n",
    "# train the model by passing X and Y with 1000 iterations\n",
    "history= model.fit(X,Y, epochs=1000,verbose=0)\n",
    "print(history.history.keys())\n",
    "\n",
    "# Evaluate the model\n",
    "scores = model.evaluate(X, Y)\n",
    "scores\n",
    "\n",
    "# the predicted model\n",
    "Y_predict = model.predict(X)\n",
    "print(\"\\n%s: %.2f%%\" % (model.metrics_names[1], scores[1]*100))\n",
    "\n",
    "\n",
    "# create confusion matrix details\n",
    "rounded = [round(i[0]) for i in Y_predict]\n",
    "y_pred = np.array(rounded,dtype='int64')\n",
    "print('Confusion Matrix')\n",
    "print('================')\n",
    "CM = confusion_matrix(Y, y_pred)\n",
    "print('True negatives: ',CM[0,0])\n",
    "print('False negatives: ',CM[1,0])\n",
    "print('False positives: ',CM[0,1])\n",
    "print('True positives: ',CM[1,1])\n",
    "\n",
    "\n",
    "# plotting the accuracy and loss model with 0.08 learning rate\n",
    "plt.plot(history.history[\"accuracy\"], c = 'g')\n",
    "plt.plot(history.history[\"loss\"], c = 'r')\n",
    "plt.title(\"The Model of Accuracy and Loss using 0.08 LR \")\n",
    "plt.ylabel(\"accuracy/loss\")\n",
    "plt.xlabel(\"epoch\")\n",
    "plt.legend([\"accuracy\", \"loss\"], loc=\"upper right\")\n",
    "plt.show()"
   ]
  },
  {
   "cell_type": "markdown",
   "metadata": {},
   "source": [
    "- The accuracy of our model with 1000 epochs and 0.08 learning rate  is 98.28%\n",
    "- The confusion matrix can be interpreted as follows out of 232 observations in Voting records dataset, 228 observations were correctly predicted while 4 were incorrectly predicted\n",
    "- we can also calculate the accuracy by adding True negatives and True positive then divide the sum by the total number of observations: 228/232= 0.9828 which gives 98.28%"
   ]
  }
 ],
 "metadata": {
  "kernelspec": {
   "display_name": "Python 3",
   "language": "python",
   "name": "python3"
  },
  "language_info": {
   "codemirror_mode": {
    "name": "ipython",
    "version": 3
   },
   "file_extension": ".py",
   "mimetype": "text/x-python",
   "name": "python",
   "nbconvert_exporter": "python",
   "pygments_lexer": "ipython3",
   "version": "3.7.6"
  }
 },
 "nbformat": 4,
 "nbformat_minor": 2
}
